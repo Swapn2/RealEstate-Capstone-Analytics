{
 "cells": [
  {
   "cell_type": "code",
   "execution_count": 50,
   "id": "becbc513-9e2c-4119-81ec-38f51b47496b",
   "metadata": {},
   "outputs": [],
   "source": [
    "import numpy as np \n",
    "import pandas as pd "
   ]
  },
  {
   "cell_type": "code",
   "execution_count": 51,
   "id": "c20a63a0-8821-4452-9abb-215df6a30174",
   "metadata": {},
   "outputs": [],
   "source": [
    "pd.set_option('display.max_rows',None)\n",
    "pd.set_option('display.max_columns',None)"
   ]
  },
  {
   "cell_type": "code",
   "execution_count": 52,
   "id": "149e437b-6702-473a-90a5-bcd95a1427fd",
   "metadata": {},
   "outputs": [],
   "source": [
    "flats = pd.read_csv('flats_cleaned.csv')\n",
    "houses = pd.read_csv('houses_cleaned.csv')"
   ]
  },
  {
   "cell_type": "code",
   "execution_count": 53,
   "id": "7ace2bcb-346a-438b-b4d4-e130bb5b9828",
   "metadata": {},
   "outputs": [],
   "source": [
    "df = pd.concat([flats,houses],ignore_index = True)"
   ]
  },
  {
   "cell_type": "code",
   "execution_count": 54,
   "id": "45dd18e0-a05b-48a0-b420-6f439dc47a6c",
   "metadata": {},
   "outputs": [
    {
     "data": {
      "text/html": [
       "<div>\n",
       "<style scoped>\n",
       "    .dataframe tbody tr th:only-of-type {\n",
       "        vertical-align: middle;\n",
       "    }\n",
       "\n",
       "    .dataframe tbody tr th {\n",
       "        vertical-align: top;\n",
       "    }\n",
       "\n",
       "    .dataframe thead th {\n",
       "        text-align: right;\n",
       "    }\n",
       "</style>\n",
       "<table border=\"1\" class=\"dataframe\">\n",
       "  <thead>\n",
       "    <tr style=\"text-align: right;\">\n",
       "      <th></th>\n",
       "      <th>property_name</th>\n",
       "      <th>propert_type</th>\n",
       "      <th>society</th>\n",
       "      <th>price_in_crore</th>\n",
       "      <th>price_per_sqft</th>\n",
       "      <th>area_in_sqft</th>\n",
       "      <th>areaWithType</th>\n",
       "      <th>bedRoom</th>\n",
       "      <th>bathroom</th>\n",
       "      <th>balcony</th>\n",
       "      <th>additionalRoom</th>\n",
       "      <th>address</th>\n",
       "      <th>floorNum</th>\n",
       "      <th>facing</th>\n",
       "      <th>agePossession</th>\n",
       "      <th>nearbyLocations</th>\n",
       "      <th>description</th>\n",
       "      <th>furnishDetails</th>\n",
       "      <th>features</th>\n",
       "      <th>rating</th>\n",
       "    </tr>\n",
       "  </thead>\n",
       "  <tbody>\n",
       "    <tr>\n",
       "      <th>0</th>\n",
       "      <td>2 BHK Flat in Krishna Colony</td>\n",
       "      <td>flat</td>\n",
       "      <td>maa bhagwati residency</td>\n",
       "      <td>0.45</td>\n",
       "      <td>5000.0</td>\n",
       "      <td>900.0</td>\n",
       "      <td>Carpet area: 900 (83.61 sq.m.)</td>\n",
       "      <td>2</td>\n",
       "      <td>2</td>\n",
       "      <td>1</td>\n",
       "      <td>not available</td>\n",
       "      <td>Krishna Colony, Gurgaon, Haryana</td>\n",
       "      <td>4.0</td>\n",
       "      <td>West</td>\n",
       "      <td>1 to 5 Year Old</td>\n",
       "      <td>['Chintapurni Mandir', 'State bank ATM', 'Pear...</td>\n",
       "      <td>So with lift.Maa bhagwati residency is one of ...</td>\n",
       "      <td>['3 Fan', '4 Light', '1 Wardrobe', 'No AC', 'N...</td>\n",
       "      <td>['Feng Shui / Vaastu Compliant', 'Security / F...</td>\n",
       "      <td>['Environment4 out of 5', 'Safety4 out of 5', ...</td>\n",
       "    </tr>\n",
       "    <tr>\n",
       "      <th>1</th>\n",
       "      <td>2 BHK Flat in Ashok Vihar</td>\n",
       "      <td>flat</td>\n",
       "      <td>apna enclave</td>\n",
       "      <td>0.50</td>\n",
       "      <td>7692.0</td>\n",
       "      <td>650.0</td>\n",
       "      <td>Carpet area: 650 (60.39 sq.m.)</td>\n",
       "      <td>2</td>\n",
       "      <td>2</td>\n",
       "      <td>1</td>\n",
       "      <td>not available</td>\n",
       "      <td>46b, Ashok Vihar, Gurgaon, Haryana</td>\n",
       "      <td>1.0</td>\n",
       "      <td>West</td>\n",
       "      <td>10+ Year Old</td>\n",
       "      <td>['Chintapurni Mandir', 'Sheetla Mata Mandir', ...</td>\n",
       "      <td>Property situated on main road, railway statio...</td>\n",
       "      <td>['3 Wardrobe', '4 Fan', '1 Exhaust Fan', '1 Ge...</td>\n",
       "      <td>['Security / Fire Alarm', 'Maintenance Staff',...</td>\n",
       "      <td>['Environment4 out of 5', 'Safety4 out of 5', ...</td>\n",
       "    </tr>\n",
       "    <tr>\n",
       "      <th>2</th>\n",
       "      <td>2 BHK Flat in Sohna</td>\n",
       "      <td>flat</td>\n",
       "      <td>tulsiani easy in homes</td>\n",
       "      <td>0.40</td>\n",
       "      <td>6722.0</td>\n",
       "      <td>595.0</td>\n",
       "      <td>Carpet area: 595 (55.28 sq.m.)</td>\n",
       "      <td>2</td>\n",
       "      <td>2</td>\n",
       "      <td>3</td>\n",
       "      <td>not available</td>\n",
       "      <td>Sohna, Gurgaon, Haryana</td>\n",
       "      <td>12.0</td>\n",
       "      <td>NaN</td>\n",
       "      <td>0 to 1 Year Old</td>\n",
       "      <td>['Huda City Metro', 'Golf Course extn road', '...</td>\n",
       "      <td>This property is 15 km away from badshapur, gu...</td>\n",
       "      <td>NaN</td>\n",
       "      <td>['Power Back-up', 'Feng Shui / Vaastu Complian...</td>\n",
       "      <td>['Environment4 out of 5', 'Safety4 out of 5', ...</td>\n",
       "    </tr>\n",
       "    <tr>\n",
       "      <th>3</th>\n",
       "      <td>2 BHK Flat in Sector 61 Gurgaon</td>\n",
       "      <td>flat</td>\n",
       "      <td>smart world orchard</td>\n",
       "      <td>1.47</td>\n",
       "      <td>12250.0</td>\n",
       "      <td>1200.0</td>\n",
       "      <td>Carpet area: 1200 (111.48 sq.m.)</td>\n",
       "      <td>2</td>\n",
       "      <td>2</td>\n",
       "      <td>2</td>\n",
       "      <td>study room</td>\n",
       "      <td>Sector 61 Gurgaon, Gurgaon, Haryana</td>\n",
       "      <td>2.0</td>\n",
       "      <td>NaN</td>\n",
       "      <td>Dec-23</td>\n",
       "      <td>['Sector 55-56 Metro station', 'Bestech Centra...</td>\n",
       "      <td>Near to metro station of sector 56 and opposit...</td>\n",
       "      <td>NaN</td>\n",
       "      <td>['Security / Fire Alarm', 'Private Garden / Te...</td>\n",
       "      <td>NaN</td>\n",
       "    </tr>\n",
       "    <tr>\n",
       "      <th>4</th>\n",
       "      <td>2 BHK Flat in Sector 92 Gurgaon</td>\n",
       "      <td>flat</td>\n",
       "      <td>parkwood westend</td>\n",
       "      <td>0.70</td>\n",
       "      <td>5204.0</td>\n",
       "      <td>1345.0</td>\n",
       "      <td>Super Built up area 1345(124.95 sq.m.)</td>\n",
       "      <td>2</td>\n",
       "      <td>2</td>\n",
       "      <td>3</td>\n",
       "      <td>study room</td>\n",
       "      <td>Sector 92 Gurgaon, Gurgaon, Haryana</td>\n",
       "      <td>5.0</td>\n",
       "      <td>NaN</td>\n",
       "      <td>Under Construction</td>\n",
       "      <td>['Yadav Clinic', 'Bangali Clinic', 'Dr. J. S. ...</td>\n",
       "      <td>We are the proud owners of this 2 bhk alongwit...</td>\n",
       "      <td>[]</td>\n",
       "      <td>NaN</td>\n",
       "      <td>['Environment5 out of 5', 'Safety3 out of 5', ...</td>\n",
       "    </tr>\n",
       "  </tbody>\n",
       "</table>\n",
       "</div>"
      ],
      "text/plain": [
       "                     property_name propert_type                 society  \\\n",
       "0     2 BHK Flat in Krishna Colony         flat  maa bhagwati residency   \n",
       "1        2 BHK Flat in Ashok Vihar         flat            apna enclave   \n",
       "2              2 BHK Flat in Sohna         flat  tulsiani easy in homes   \n",
       "3  2 BHK Flat in Sector 61 Gurgaon         flat     smart world orchard   \n",
       "4  2 BHK Flat in Sector 92 Gurgaon         flat        parkwood westend   \n",
       "\n",
       "   price_in_crore  price_per_sqft  area_in_sqft  \\\n",
       "0            0.45          5000.0         900.0   \n",
       "1            0.50          7692.0         650.0   \n",
       "2            0.40          6722.0         595.0   \n",
       "3            1.47         12250.0        1200.0   \n",
       "4            0.70          5204.0        1345.0   \n",
       "\n",
       "                             areaWithType  bedRoom  bathroom balcony  \\\n",
       "0          Carpet area: 900 (83.61 sq.m.)        2         2       1   \n",
       "1          Carpet area: 650 (60.39 sq.m.)        2         2       1   \n",
       "2          Carpet area: 595 (55.28 sq.m.)        2         2       3   \n",
       "3        Carpet area: 1200 (111.48 sq.m.)        2         2       2   \n",
       "4  Super Built up area 1345(124.95 sq.m.)        2         2       3   \n",
       "\n",
       "  additionalRoom                              address  floorNum facing  \\\n",
       "0  not available     Krishna Colony, Gurgaon, Haryana       4.0   West   \n",
       "1  not available   46b, Ashok Vihar, Gurgaon, Haryana       1.0   West   \n",
       "2  not available              Sohna, Gurgaon, Haryana      12.0    NaN   \n",
       "3     study room  Sector 61 Gurgaon, Gurgaon, Haryana       2.0    NaN   \n",
       "4     study room  Sector 92 Gurgaon, Gurgaon, Haryana       5.0    NaN   \n",
       "\n",
       "        agePossession                                    nearbyLocations  \\\n",
       "0     1 to 5 Year Old  ['Chintapurni Mandir', 'State bank ATM', 'Pear...   \n",
       "1        10+ Year Old  ['Chintapurni Mandir', 'Sheetla Mata Mandir', ...   \n",
       "2     0 to 1 Year Old  ['Huda City Metro', 'Golf Course extn road', '...   \n",
       "3              Dec-23  ['Sector 55-56 Metro station', 'Bestech Centra...   \n",
       "4  Under Construction  ['Yadav Clinic', 'Bangali Clinic', 'Dr. J. S. ...   \n",
       "\n",
       "                                         description  \\\n",
       "0  So with lift.Maa bhagwati residency is one of ...   \n",
       "1  Property situated on main road, railway statio...   \n",
       "2  This property is 15 km away from badshapur, gu...   \n",
       "3  Near to metro station of sector 56 and opposit...   \n",
       "4  We are the proud owners of this 2 bhk alongwit...   \n",
       "\n",
       "                                      furnishDetails  \\\n",
       "0  ['3 Fan', '4 Light', '1 Wardrobe', 'No AC', 'N...   \n",
       "1  ['3 Wardrobe', '4 Fan', '1 Exhaust Fan', '1 Ge...   \n",
       "2                                                NaN   \n",
       "3                                                NaN   \n",
       "4                                                 []   \n",
       "\n",
       "                                            features  \\\n",
       "0  ['Feng Shui / Vaastu Compliant', 'Security / F...   \n",
       "1  ['Security / Fire Alarm', 'Maintenance Staff',...   \n",
       "2  ['Power Back-up', 'Feng Shui / Vaastu Complian...   \n",
       "3  ['Security / Fire Alarm', 'Private Garden / Te...   \n",
       "4                                                NaN   \n",
       "\n",
       "                                              rating  \n",
       "0  ['Environment4 out of 5', 'Safety4 out of 5', ...  \n",
       "1  ['Environment4 out of 5', 'Safety4 out of 5', ...  \n",
       "2  ['Environment4 out of 5', 'Safety4 out of 5', ...  \n",
       "3                                                NaN  \n",
       "4  ['Environment5 out of 5', 'Safety3 out of 5', ...  "
      ]
     },
     "execution_count": 54,
     "metadata": {},
     "output_type": "execute_result"
    }
   ],
   "source": [
    "df.head()"
   ]
  },
  {
   "cell_type": "code",
   "execution_count": 55,
   "id": "964984fd-b875-49d7-b393-8690f0599e1f",
   "metadata": {},
   "outputs": [
    {
     "data": {
      "text/plain": [
       "(3961, 20)"
      ]
     },
     "execution_count": 55,
     "metadata": {},
     "output_type": "execute_result"
    }
   ],
   "source": [
    "df.shape"
   ]
  },
  {
   "cell_type": "code",
   "execution_count": 56,
   "id": "a1bffde3-817f-4177-894c-adb8af09d029",
   "metadata": {},
   "outputs": [],
   "source": [
    "df.to_csv('gurgaon_data.csv', index = False)"
   ]
  },
  {
   "cell_type": "code",
   "execution_count": 57,
   "id": "4a179035-ae8a-4afa-abd0-05fd976cb44b",
   "metadata": {},
   "outputs": [
    {
     "data": {
      "text/plain": [
       "Index(['property_name', 'propert_type', 'society', 'price_in_crore',\n",
       "       'price_per_sqft', 'area_in_sqft', 'areaWithType', 'bedRoom', 'bathroom',\n",
       "       'balcony', 'additionalRoom', 'address', 'floorNum', 'facing',\n",
       "       'agePossession', 'nearbyLocations', 'description', 'furnishDetails',\n",
       "       'features', 'rating'],\n",
       "      dtype='object')"
      ]
     },
     "execution_count": 57,
     "metadata": {},
     "output_type": "execute_result"
    }
   ],
   "source": [
    "flats.columns"
   ]
  },
  {
   "cell_type": "code",
   "execution_count": 58,
   "id": "a084543c-b1d9-47eb-a417-72e9c4d3065c",
   "metadata": {},
   "outputs": [
    {
     "data": {
      "text/plain": [
       "Index(['property_name', 'propert_type', 'society', 'price_in_crore',\n",
       "       'price_per_sqft', 'area_in_sqft', 'areaWithType', 'bedRoom', 'bathroom',\n",
       "       'balcony', 'additionalRoom', 'address', 'floorNum', 'facing',\n",
       "       'agePossession', 'nearbyLocations', 'description', 'furnishDetails',\n",
       "       'features', 'rating'],\n",
       "      dtype='object')"
      ]
     },
     "execution_count": 58,
     "metadata": {},
     "output_type": "execute_result"
    }
   ],
   "source": [
    "houses.columns"
   ]
  },
  {
   "cell_type": "code",
   "execution_count": null,
   "id": "3ce63fc7-e9a5-4cfc-a7d7-df0f5ce10a5e",
   "metadata": {},
   "outputs": [],
   "source": []
  }
 ],
 "metadata": {
  "kernelspec": {
   "display_name": "Python 3 (ipykernel)",
   "language": "python",
   "name": "python3"
  },
  "language_info": {
   "codemirror_mode": {
    "name": "ipython",
    "version": 3
   },
   "file_extension": ".py",
   "mimetype": "text/x-python",
   "name": "python",
   "nbconvert_exporter": "python",
   "pygments_lexer": "ipython3",
   "version": "3.12.4"
  }
 },
 "nbformat": 4,
 "nbformat_minor": 5
}
