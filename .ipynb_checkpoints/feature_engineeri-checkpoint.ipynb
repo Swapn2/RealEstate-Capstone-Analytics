{
 "cells": [
  {
   "cell_type": "code",
   "execution_count": 72,
   "id": "c488b2a5-684a-4a9b-86e5-5aa7602bbc28",
   "metadata": {},
   "outputs": [],
   "source": [
    "import numpy as np \n",
    "import pandas as pd \n",
    "import re"
   ]
  },
  {
   "cell_type": "code",
   "execution_count": 73,
   "id": "6cd15b4a-e71f-417a-ba87-c51101f9d369",
   "metadata": {},
   "outputs": [],
   "source": [
    "# pd.set_option('display.max_colwidth',None)\n",
    "# pd.set_option('display.max_rows',None)\n",
    "# pd.set_option('display.max_columns',None)"
   ]
  },
  {
   "cell_type": "code",
   "execution_count": 74,
   "id": "27a5c510-689f-490f-92dd-ca2f0a576ed5",
   "metadata": {},
   "outputs": [],
   "source": [
    "df = pd.read_csv('merged_data_cleaned.csv')"
   ]
  },
  {
   "cell_type": "code",
   "execution_count": 75,
   "id": "ad6f14d2-0302-4bbb-a6b8-0893bb52a4a9",
   "metadata": {},
   "outputs": [
    {
     "data": {
      "text/html": [
       "<div>\n",
       "<style scoped>\n",
       "    .dataframe tbody tr th:only-of-type {\n",
       "        vertical-align: middle;\n",
       "    }\n",
       "\n",
       "    .dataframe tbody tr th {\n",
       "        vertical-align: top;\n",
       "    }\n",
       "\n",
       "    .dataframe thead th {\n",
       "        text-align: right;\n",
       "    }\n",
       "</style>\n",
       "<table border=\"1\" class=\"dataframe\">\n",
       "  <thead>\n",
       "    <tr style=\"text-align: right;\">\n",
       "      <th></th>\n",
       "      <th>propert_type</th>\n",
       "      <th>society</th>\n",
       "      <th>sector</th>\n",
       "      <th>price_in_crore</th>\n",
       "      <th>price_per_sqft</th>\n",
       "      <th>area_in_sqft</th>\n",
       "      <th>areaWithType</th>\n",
       "      <th>bedRoom</th>\n",
       "      <th>bathroom</th>\n",
       "      <th>balcony</th>\n",
       "      <th>additionalRoom</th>\n",
       "      <th>floorNum</th>\n",
       "      <th>facing</th>\n",
       "      <th>agePossession</th>\n",
       "      <th>nearbyLocations</th>\n",
       "      <th>furnishDetails</th>\n",
       "      <th>features</th>\n",
       "    </tr>\n",
       "  </thead>\n",
       "  <tbody>\n",
       "    <tr>\n",
       "      <th>1511</th>\n",
       "      <td>flat</td>\n",
       "      <td>ss</td>\n",
       "      <td>sector 85</td>\n",
       "      <td>2.10</td>\n",
       "      <td>7467.0</td>\n",
       "      <td>2812.0</td>\n",
       "      <td>Super Built up area 2812(261.24 sq.m.)Built Up...</td>\n",
       "      <td>4</td>\n",
       "      <td>4</td>\n",
       "      <td>3</td>\n",
       "      <td>not available</td>\n",
       "      <td>2.0</td>\n",
       "      <td>North-West</td>\n",
       "      <td>1 to 5 Year Old</td>\n",
       "      <td>['Orris Community Center', 'Indian Oil', 'Essa...</td>\n",
       "      <td>['6 AC', 'No Bed', 'No Chimney', 'No Curtains'...</td>\n",
       "      <td>['Feng Shui / Vaastu Compliant', 'Security / F...</td>\n",
       "    </tr>\n",
       "    <tr>\n",
       "      <th>3378</th>\n",
       "      <td>house</td>\n",
       "      <td>independent</td>\n",
       "      <td>sector 24</td>\n",
       "      <td>11.00</td>\n",
       "      <td>28898.0</td>\n",
       "      <td>3806.0</td>\n",
       "      <td>Plot area 3806.45(353.63 sq.m.)Built Up area: ...</td>\n",
       "      <td>8</td>\n",
       "      <td>11</td>\n",
       "      <td>3+</td>\n",
       "      <td>pooja room,study room,servant room,others</td>\n",
       "      <td>3.0</td>\n",
       "      <td>East</td>\n",
       "      <td>10+ Year Old</td>\n",
       "      <td>NaN</td>\n",
       "      <td>['8 Wardrobe', '12 Fan', '1 Exhaust Fan', '8 G...</td>\n",
       "      <td>['Private Garden / Terrace', 'Swimming Pool', ...</td>\n",
       "    </tr>\n",
       "    <tr>\n",
       "      <th>1881</th>\n",
       "      <td>flat</td>\n",
       "      <td>sbtl caladium</td>\n",
       "      <td>sector 109</td>\n",
       "      <td>1.68</td>\n",
       "      <td>6601.0</td>\n",
       "      <td>2545.0</td>\n",
       "      <td>Super Built up area 2545(236.44 sq.m.)</td>\n",
       "      <td>3</td>\n",
       "      <td>3</td>\n",
       "      <td>3+</td>\n",
       "      <td>servant room</td>\n",
       "      <td>7.0</td>\n",
       "      <td>East</td>\n",
       "      <td>5 to 10 Year Old</td>\n",
       "      <td>['Palam Vihar Vyapar kendra', 'Chirag Hospital...</td>\n",
       "      <td>NaN</td>\n",
       "      <td>['Security / Fire Alarm', 'Power Back-up', 'Fe...</td>\n",
       "    </tr>\n",
       "    <tr>\n",
       "      <th>375</th>\n",
       "      <td>flat</td>\n",
       "      <td>hero homes</td>\n",
       "      <td>sector 9</td>\n",
       "      <td>1.60</td>\n",
       "      <td>7825.0</td>\n",
       "      <td>2045.0</td>\n",
       "      <td>Super Built up area 1689(156.91 sq.m.)</td>\n",
       "      <td>3</td>\n",
       "      <td>3</td>\n",
       "      <td>3</td>\n",
       "      <td>not available</td>\n",
       "      <td>1.0</td>\n",
       "      <td>NaN</td>\n",
       "      <td>0 to 1 Year Old</td>\n",
       "      <td>['Gol Market', 'Gurdwara Baba Deep Singh', 'Gu...</td>\n",
       "      <td>['2 Wardrobe', '2 Fan', '2 Light', '1 Modular ...</td>\n",
       "      <td>['Feng Shui / Vaastu Compliant', 'Security / F...</td>\n",
       "    </tr>\n",
       "    <tr>\n",
       "      <th>1395</th>\n",
       "      <td>flat</td>\n",
       "      <td>dlf regal gardens</td>\n",
       "      <td>sector 90</td>\n",
       "      <td>1.75</td>\n",
       "      <td>7900.0</td>\n",
       "      <td>2215.0</td>\n",
       "      <td>Super Built up area 2215(205.78 sq.m.)</td>\n",
       "      <td>4</td>\n",
       "      <td>4</td>\n",
       "      <td>3+</td>\n",
       "      <td>others</td>\n",
       "      <td>3.0</td>\n",
       "      <td>East</td>\n",
       "      <td>1 to 5 Year Old</td>\n",
       "      <td>['SS Omnia, Sector 86', 'Numberdar market, IMT...</td>\n",
       "      <td>NaN</td>\n",
       "      <td>['Lift(s)', 'Maintenance Staff']</td>\n",
       "    </tr>\n",
       "  </tbody>\n",
       "</table>\n",
       "</div>"
      ],
      "text/plain": [
       "     propert_type            society      sector  price_in_crore  \\\n",
       "1511         flat                 ss   sector 85            2.10   \n",
       "3378        house        independent   sector 24           11.00   \n",
       "1881         flat      sbtl caladium  sector 109            1.68   \n",
       "375          flat         hero homes    sector 9            1.60   \n",
       "1395         flat  dlf regal gardens   sector 90            1.75   \n",
       "\n",
       "      price_per_sqft  area_in_sqft  \\\n",
       "1511          7467.0        2812.0   \n",
       "3378         28898.0        3806.0   \n",
       "1881          6601.0        2545.0   \n",
       "375           7825.0        2045.0   \n",
       "1395          7900.0        2215.0   \n",
       "\n",
       "                                           areaWithType  bedRoom  bathroom  \\\n",
       "1511  Super Built up area 2812(261.24 sq.m.)Built Up...        4         4   \n",
       "3378  Plot area 3806.45(353.63 sq.m.)Built Up area: ...        8        11   \n",
       "1881             Super Built up area 2545(236.44 sq.m.)        3         3   \n",
       "375              Super Built up area 1689(156.91 sq.m.)        3         3   \n",
       "1395             Super Built up area 2215(205.78 sq.m.)        4         4   \n",
       "\n",
       "     balcony                             additionalRoom  floorNum      facing  \\\n",
       "1511       3                              not available       2.0  North-West   \n",
       "3378      3+  pooja room,study room,servant room,others       3.0        East   \n",
       "1881      3+                               servant room       7.0        East   \n",
       "375        3                              not available       1.0         NaN   \n",
       "1395      3+                                     others       3.0        East   \n",
       "\n",
       "         agePossession                                    nearbyLocations  \\\n",
       "1511   1 to 5 Year Old  ['Orris Community Center', 'Indian Oil', 'Essa...   \n",
       "3378      10+ Year Old                                                NaN   \n",
       "1881  5 to 10 Year Old  ['Palam Vihar Vyapar kendra', 'Chirag Hospital...   \n",
       "375    0 to 1 Year Old  ['Gol Market', 'Gurdwara Baba Deep Singh', 'Gu...   \n",
       "1395   1 to 5 Year Old  ['SS Omnia, Sector 86', 'Numberdar market, IMT...   \n",
       "\n",
       "                                         furnishDetails  \\\n",
       "1511  ['6 AC', 'No Bed', 'No Chimney', 'No Curtains'...   \n",
       "3378  ['8 Wardrobe', '12 Fan', '1 Exhaust Fan', '8 G...   \n",
       "1881                                                NaN   \n",
       "375   ['2 Wardrobe', '2 Fan', '2 Light', '1 Modular ...   \n",
       "1395                                                NaN   \n",
       "\n",
       "                                               features  \n",
       "1511  ['Feng Shui / Vaastu Compliant', 'Security / F...  \n",
       "3378  ['Private Garden / Terrace', 'Swimming Pool', ...  \n",
       "1881  ['Security / Fire Alarm', 'Power Back-up', 'Fe...  \n",
       "375   ['Feng Shui / Vaastu Compliant', 'Security / F...  \n",
       "1395                   ['Lift(s)', 'Maintenance Staff']  "
      ]
     },
     "execution_count": 75,
     "metadata": {},
     "output_type": "execute_result"
    }
   ],
   "source": [
    "df.sample(5)"
   ]
  },
  {
   "cell_type": "code",
   "execution_count": 76,
   "id": "d81fba70-1302-45c7-8e7e-924fd08e6b23",
   "metadata": {},
   "outputs": [
    {
     "data": {
      "text/plain": [
       "122"
      ]
     },
     "execution_count": 76,
     "metadata": {},
     "output_type": "execute_result"
    }
   ],
   "source": [
    "df.duplicated().sum()"
   ]
  },
  {
   "cell_type": "code",
   "execution_count": 77,
   "id": "ef456a65-a8d1-4e4e-bf86-0405749ca7e4",
   "metadata": {},
   "outputs": [
    {
     "data": {
      "text/plain": [
       "(3803, 17)"
      ]
     },
     "execution_count": 77,
     "metadata": {},
     "output_type": "execute_result"
    }
   ],
   "source": [
    "df.shape"
   ]
  },
  {
   "cell_type": "code",
   "execution_count": 78,
   "id": "895b5a7e-dcf4-4c39-87ce-5cd47f2befc0",
   "metadata": {},
   "outputs": [],
   "source": [
    "df.drop_duplicates(inplace = True)"
   ]
  },
  {
   "cell_type": "code",
   "execution_count": 79,
   "id": "ea5ffe33-8ec0-43bc-ba2e-48ccd66d4cbd",
   "metadata": {},
   "outputs": [
    {
     "data": {
      "text/plain": [
       "(3681, 17)"
      ]
     },
     "execution_count": 79,
     "metadata": {},
     "output_type": "execute_result"
    }
   ],
   "source": [
    "df.shape"
   ]
  },
  {
   "cell_type": "code",
   "execution_count": 80,
   "id": "4b094cf2-8759-46c3-87ea-81885f21a060",
   "metadata": {},
   "outputs": [
    {
     "data": {
      "text/html": [
       "<div>\n",
       "<style scoped>\n",
       "    .dataframe tbody tr th:only-of-type {\n",
       "        vertical-align: middle;\n",
       "    }\n",
       "\n",
       "    .dataframe tbody tr th {\n",
       "        vertical-align: top;\n",
       "    }\n",
       "\n",
       "    .dataframe thead th {\n",
       "        text-align: right;\n",
       "    }\n",
       "</style>\n",
       "<table border=\"1\" class=\"dataframe\">\n",
       "  <thead>\n",
       "    <tr style=\"text-align: right;\">\n",
       "      <th></th>\n",
       "      <th>price_in_crore</th>\n",
       "      <th>area_in_sqft</th>\n",
       "      <th>areaWithType</th>\n",
       "    </tr>\n",
       "  </thead>\n",
       "  <tbody>\n",
       "    <tr>\n",
       "      <th>2531</th>\n",
       "      <td>1.15</td>\n",
       "      <td>2091.0</td>\n",
       "      <td>Built Up area: 2000 (185.81 sq.m.)</td>\n",
       "    </tr>\n",
       "    <tr>\n",
       "      <th>2856</th>\n",
       "      <td>2.08</td>\n",
       "      <td>1727.0</td>\n",
       "      <td>Super Built up area 1727(160.44 sq.m.)</td>\n",
       "    </tr>\n",
       "    <tr>\n",
       "      <th>118</th>\n",
       "      <td>0.34</td>\n",
       "      <td>629.0</td>\n",
       "      <td>Carpet area: 629 (58.44 sq.m.)</td>\n",
       "    </tr>\n",
       "    <tr>\n",
       "      <th>1171</th>\n",
       "      <td>1.10</td>\n",
       "      <td>1450.0</td>\n",
       "      <td>Super Built up area 1450(134.71 sq.m.)</td>\n",
       "    </tr>\n",
       "    <tr>\n",
       "      <th>2224</th>\n",
       "      <td>0.70</td>\n",
       "      <td>1548.0</td>\n",
       "      <td>Carpet area: 1548 (143.81 sq.m.)</td>\n",
       "    </tr>\n",
       "  </tbody>\n",
       "</table>\n",
       "</div>"
      ],
      "text/plain": [
       "      price_in_crore  area_in_sqft                            areaWithType\n",
       "2531            1.15        2091.0      Built Up area: 2000 (185.81 sq.m.)\n",
       "2856            2.08        1727.0  Super Built up area 1727(160.44 sq.m.)\n",
       "118             0.34         629.0          Carpet area: 629 (58.44 sq.m.)\n",
       "1171            1.10        1450.0  Super Built up area 1450(134.71 sq.m.)\n",
       "2224            0.70        1548.0        Carpet area: 1548 (143.81 sq.m.)"
      ]
     },
     "execution_count": 80,
     "metadata": {},
     "output_type": "execute_result"
    }
   ],
   "source": [
    "df.sample(5)[['price_in_crore', 'area_in_sqft' , 'areaWithType']]"
   ]
  },
  {
   "cell_type": "code",
   "execution_count": 81,
   "id": "a9ce4b10-6965-46f3-98bd-d498a8715d08",
   "metadata": {},
   "outputs": [],
   "source": [
    "# This function extracts the Super Built up area\n",
    "def get_super_built_up_area(text):\n",
    "    match = re.search(r'Super Built up area (\\d+\\.?\\d*)', text)\n",
    "    if match:\n",
    "        return float(match.group(1))\n",
    "    return None"
   ]
  },
  {
   "cell_type": "code",
   "execution_count": 82,
   "id": "3fe77e1b-14f3-4149-ac21-157f807ebc20",
   "metadata": {},
   "outputs": [],
   "source": [
    "# This function extracts the Built Up area or Carpet area\n",
    "def get_area(text, area_type):\n",
    "    match = re.search(area_type + r'\\s*:\\s*(\\d+\\.?\\d*)', text)\n",
    "    if match:\n",
    "        return float(match.group(1))\n",
    "    return None"
   ]
  },
  {
   "cell_type": "code",
   "execution_count": 83,
   "id": "63fd39e6-115c-467c-9cfd-2e380b936267",
   "metadata": {},
   "outputs": [],
   "source": [
    "# This function checks if the area is provided in sq.m. and converts it to sqft if needed\n",
    "def convert_to_sqft(text, area_value):\n",
    "    if area_value is None:\n",
    "        return None\n",
    "    match = re.search(r'{} \\((\\d+\\.?\\d*) sq.m.\\)'.format(area_value), text)\n",
    "    if match:\n",
    "        sq_m_value = float(match.group(1))\n",
    "        return sq_m_value * 10.7639  # conversion factor from sq.m. to sqft\n",
    "    return area_value"
   ]
  },
  {
   "cell_type": "code",
   "execution_count": 84,
   "id": "2b258cdb-abf9-4d6d-a5a8-85548602ad14",
   "metadata": {},
   "outputs": [
    {
     "data": {
      "text/html": [
       "<div>\n",
       "<style scoped>\n",
       "    .dataframe tbody tr th:only-of-type {\n",
       "        vertical-align: middle;\n",
       "    }\n",
       "\n",
       "    .dataframe tbody tr th {\n",
       "        vertical-align: top;\n",
       "    }\n",
       "\n",
       "    .dataframe thead th {\n",
       "        text-align: right;\n",
       "    }\n",
       "</style>\n",
       "<table border=\"1\" class=\"dataframe\">\n",
       "  <thead>\n",
       "    <tr style=\"text-align: right;\">\n",
       "      <th></th>\n",
       "      <th>propert_type</th>\n",
       "      <th>society</th>\n",
       "      <th>sector</th>\n",
       "      <th>price_in_crore</th>\n",
       "      <th>price_per_sqft</th>\n",
       "      <th>area_in_sqft</th>\n",
       "      <th>areaWithType</th>\n",
       "      <th>bedRoom</th>\n",
       "      <th>bathroom</th>\n",
       "      <th>balcony</th>\n",
       "      <th>additionalRoom</th>\n",
       "      <th>floorNum</th>\n",
       "      <th>facing</th>\n",
       "      <th>agePossession</th>\n",
       "      <th>nearbyLocations</th>\n",
       "      <th>furnishDetails</th>\n",
       "      <th>features</th>\n",
       "      <th>super_built_up_area</th>\n",
       "    </tr>\n",
       "  </thead>\n",
       "  <tbody>\n",
       "    <tr>\n",
       "      <th>1539</th>\n",
       "      <td>flat</td>\n",
       "      <td>tata primanti</td>\n",
       "      <td>sector 72</td>\n",
       "      <td>3.3</td>\n",
       "      <td>15102.0</td>\n",
       "      <td>2185.0</td>\n",
       "      <td>Super Built up area 2185(202.99 sq.m.)Built Up...</td>\n",
       "      <td>3</td>\n",
       "      <td>4</td>\n",
       "      <td>3+</td>\n",
       "      <td>servant room</td>\n",
       "      <td>15.0</td>\n",
       "      <td>North</td>\n",
       "      <td>0 to 1 Year Old</td>\n",
       "      <td>['Sector 55-56 Metro Station', 'Omaxe City Cen...</td>\n",
       "      <td>['1 Water Purifier', '5 Fan', '1 Fridge', '1 E...</td>\n",
       "      <td>['Centrally Air Conditioned', 'Water purifier'...</td>\n",
       "      <td>2185.0</td>\n",
       "    </tr>\n",
       "  </tbody>\n",
       "</table>\n",
       "</div>"
      ],
      "text/plain": [
       "     propert_type        society     sector  price_in_crore  price_per_sqft  \\\n",
       "1539         flat  tata primanti  sector 72             3.3         15102.0   \n",
       "\n",
       "      area_in_sqft                                       areaWithType  \\\n",
       "1539        2185.0  Super Built up area 2185(202.99 sq.m.)Built Up...   \n",
       "\n",
       "      bedRoom  bathroom balcony additionalRoom  floorNum facing  \\\n",
       "1539        3         4      3+   servant room      15.0  North   \n",
       "\n",
       "        agePossession                                    nearbyLocations  \\\n",
       "1539  0 to 1 Year Old  ['Sector 55-56 Metro Station', 'Omaxe City Cen...   \n",
       "\n",
       "                                         furnishDetails  \\\n",
       "1539  ['1 Water Purifier', '5 Fan', '1 Fridge', '1 E...   \n",
       "\n",
       "                                               features  super_built_up_area  \n",
       "1539  ['Centrally Air Conditioned', 'Water purifier'...               2185.0  "
      ]
     },
     "execution_count": 84,
     "metadata": {},
     "output_type": "execute_result"
    }
   ],
   "source": [
    "df['super_built_up_area'] = df['areaWithType'].apply(get_super_built_up_area)\n",
    "df['super_built_up_area'] = df.apply(lambda x : convert_to_sqft(x['areaWithType'],x['super_built_up_area']),axis = 1)\n",
    "df.sample(1)"
   ]
  },
  {
   "cell_type": "code",
   "execution_count": null,
   "id": "a9d92b77-cd88-4fcc-b118-020c8763da49",
   "metadata": {},
   "outputs": [],
   "source": []
  }
 ],
 "metadata": {
  "kernelspec": {
   "display_name": "Python 3 (ipykernel)",
   "language": "python",
   "name": "python3"
  },
  "language_info": {
   "codemirror_mode": {
    "name": "ipython",
    "version": 3
   },
   "file_extension": ".py",
   "mimetype": "text/x-python",
   "name": "python",
   "nbconvert_exporter": "python",
   "pygments_lexer": "ipython3",
   "version": "3.12.4"
  }
 },
 "nbformat": 4,
 "nbformat_minor": 5
}
